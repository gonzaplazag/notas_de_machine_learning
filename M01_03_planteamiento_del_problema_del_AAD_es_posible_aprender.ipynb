{
 "metadata": {
  "language_info": {
   "codemirror_mode": {
    "name": "ipython",
    "version": 3
   },
   "file_extension": ".py",
   "mimetype": "text/x-python",
   "name": "python",
   "nbconvert_exporter": "python",
   "pygments_lexer": "ipython3",
   "version": 3
  },
  "orig_nbformat": 2
 },
 "nbformat": 4,
 "nbformat_minor": 2,
 "cells": [
  {
   "source": [
    "# Error y ruido\n",
    "\n",
    "## Error\n",
    "\n",
    "Se denomina **medida de error** a la medida de cuán bien aproxima la función $g$ a la función objetivo $f$.\n",
    "\n",
    "Existen diferentes medidas de error posibles. La elección de una medida de error es clave, pues diferentes elecciones implican diferentes decisiones finales respecto a la mejor aproximación a la función $f$.\n",
    "\n",
    "Una medida de error **ideal** lo que hace es comparar la clasificación real de los puntos realizada por la función $f$, respecto a la realizada al seleccionar una hipótesis específica $h$; o sea, $E = E(h,f)$. Sin embargo, este es un postulado puramente teórico.\n",
    "\n",
    "Lo que en realidad se mide en la medida de error es el error de predicción sobre un conjunto particular y disponible de datos $D_t$ de los cuales disponemos la clasificación, comparando su etiqueta de clase real con la predicha por el modelo al seleccionar una hipótesis $H$, $e = e(h(D_t),f(D_t))$. \n",
    "\n",
    "La medida de error $E$ a utilizar depende del contexto del problema. Podemos ver a esta como el *costo* asociado a seleccionar una hipótesis imperfecta respecto a la función real $f$. Este costo puede depender de diferentes situaciones de contexto, que penalice algunos errores sobre otros. \n",
    "\n",
    "## Ruido\n",
    "\n",
    "La función $f$, que asocia los valores de input con outputs determinados, **no es una función determinística**.\n",
    "\n",
    "En general, en vez de considerar el problema de aprender una función $f$ determinística, una función $y = f(x)$, tenemos una situación en la que un resultado $y$ es una variable aleatoria en que su distribución de probabilidad se ve influenciada por el valor que tome $x$, y lo que nos interesa el $P(y|x))$.\n",
    "\n"
   ],
   "cell_type": "markdown",
   "metadata": {}
  }
 ]
}