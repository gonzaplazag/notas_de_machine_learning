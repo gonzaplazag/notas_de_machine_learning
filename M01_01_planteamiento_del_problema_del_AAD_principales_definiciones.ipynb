{
 "metadata": {
  "language_info": {
   "codemirror_mode": {
    "name": "ipython",
    "version": 3
   },
   "file_extension": ".py",
   "mimetype": "text/x-python",
   "name": "python",
   "nbconvert_exporter": "python",
   "pygments_lexer": "ipython3",
   "version": "3.8.5-final"
  },
  "orig_nbformat": 2,
  "kernelspec": {
   "name": "python3",
   "display_name": "Python 3"
  }
 },
 "nbformat": 4,
 "nbformat_minor": 2,
 "cells": [
  {
   "source": [
    "# Planteamiento del problema del aprendizaje a partir de datos\n",
    "\n",
    "Existe la necesidad de aprender de los datos. Los seres humanos siempre hemos aprendido (en parte) a través de los datos. En la actualidad, existe la realidad de que poseemos grandes cantidades de datos y capacidades para trabajar con ellos, y es necesario desarrollar las técnicas que hagan posible obtener información valiosa a partir de estos.\n",
    "\n",
    "## A. Planteamiento formal del problema del aprendizaje (versión elemental)\n",
    "\n",
    "Tenemos datos del pasado y se desea predecir un comportamiento futuro. Los datos del pasado corresponden a datos de un conjunto de valores de variables que representan características involucradas en el problema, y además, una o varias variables que reflejan la respuesta asociadas a esas variables. \n",
    "\n",
    "Suponemos que esta información pasada es generada por un proceso estadístico, que relaciones las características con la respuesta de manera estadística. O sea, dados los valores de las características, existen probabilidades asociadas a respuestas posibles. Estas relación preexistente es realizada en los datos que efectivamente poseemos, que son una muestra generada por el proceso. A partir de estos datos, debemos poder establecer de alguna manera una estimación del proceso generador, de manera de poder con esta estimación predecir los resultados ante nueva información disponible. \n",
    "\n",
    "Planteado lo anterior de manera formal, existe **información de entrada (input data)** $x$, una función desconocida $f:X \\rightarrow Y$, donde $X$ se denomina el **espacio de entrada** y representa el conjunto de todos los inputs posibles de ser generados, mientras que $Y$ se denomina **espacio de salida** y representa todas las salidas posibles.\n",
    "\n",
    "Existe además un dataset $D$ de $n$ realizaciones de input-output $(x_1,y_1),...,(x_n,y_n)$. Esta es la información disponible, a partir de la cual se desea realizar el aprendizaje.\n",
    "\n",
    "Existe un **algoritmo de aprendizaje $A$**, que de una manera específica y a partir de los datos $D$, genera una función $g:X \\rightarrow Y$, que es una aproximación a la verdadera función $f$. Este algoritmo seleccina dicha función $g$ dentro de un conjunto de funciones posibles $H$, conjunto que se puede denominar **conjunto de hipótesis (hypothesis set) $H$.**\n",
    "\n",
    "El proceso de aprendizaje se considera exitoso cuando logra aproximar de la mejor manera posible la función $f$ mediante la función $g$.\n",
    "\n",
    "El conjunto de datos $D$, utilizado como insumo para la aproximación de la función mediante el algoritmo, se denomina **conjunto de entrenamiento**.\n",
    "\n",
    "La siguiente figura representa los elementos anteriormente mencionados. "
   ],
   "cell_type": "markdown",
   "metadata": {}
  },
  {
   "cell_type": "markdown",
   "metadata": {},
   "source": [
    "# ![title](img/I001_planteamiento_basico_del_problema_del_aprendizaje.png)"
   ]
  },
  {
   "source": [
    "#### Ejemplo\n",
    "> Se podría tener un problema en el cual $X = R^d$, mientras que $Y = \\{0,1\\}$, o sea, un problema en el cual desde n-uplas de números reales se tiene como respuesta un cero o un uno. Se conocen un conjunto de respuestas $D$, y a partir de ellas se quiere aproximar $f$, la función generadora. Para ello, se utiliza un algoritmo $A$ en una espacio de hipótesis $H$. "
   ],
   "cell_type": "markdown",
   "metadata": {}
  },
  {
   "source": [
    "## B. El concepto de modelo de aprendizaje\n",
    "\n",
    "Dado un problema de aprendizaje, tanto la función $f$ a aprender como los datos $D$ disponibles están dados. Sin embargo, la forma específica de aprender depende del algoritmo $A$ y del conjunto de hipóstesis $H$ a considerar. Estos dos elementos no están determinados por el problema mismo. En conjunto, estos dos elementos se suelen denominar **modelo de aprendizaje**."
   ],
   "cell_type": "markdown",
   "metadata": {}
  },
  {
   "source": [
    "## C. Aprendizaje basado en los datos versus aprendizaje basado en el diseño\n",
    "\n",
    "Existen diferentes enfoques para resolver problemas de clasificación, y es conveniente diferenciarlos. Dado un problema real de clasifiación se podría:\n",
    "\n",
    "1. Determinar las características físicas (por ejemplo) de los objetos a clasificar, de manera de establecer modelos probabilísticos basados en dichas características, que nos den cuenta de la probabilidad de que un objeto pertenezca a una clase dados valores de dichas características. Aquí los datos **no son utilizados para aprender un modelo**, sino que este es generado a partir de especificaciones concretas. Este tipo de modelado se denomina \"modelado basado en el diseño**, y no corresponde al aprendizaje aquí tratado.\n",
    "\n",
    "2. Un enfoque basado en los datos no intenta construir un modelo (estadístico) a partir de especificaciones de diseño, sino que simplemente, a partir de información empírica disponible, busca inferir el modelo real."
   ],
   "cell_type": "markdown",
   "metadata": {}
  },
  {
   "source": [
    "## D. Tipos de aprendizaje\n",
    "\n",
    "El concepto de aprendizaje a partir de datos sólo supone que, a partir de un conjunto de observaciones, es posible estimar un proceso subyacente. Dentro de este marco amplio, es posible establecer diferentes *tipos de aprendizaje*, que son casos habituales en los cuales este marco debe ser aplicado.\n",
    "\n",
    "### i. Aprendizaje supervisado\n",
    "En este marco, los datos de entrenamiento contienen explícitamente los valores de la variable objetivo junto con los de las variables de input. El hecho de que el valor correcto de output esté disponible brinda una información ya correcta, *curada* por decirlo así, por el trabajo de un *supervisor*.\n",
    "\n",
    "El *aprendizaje supervisado* es una marco habitual en la práctica, en el cual se tiene información pasada *completa y disponible* para realizar el proceso de inferencia. Dos variantes de este tipo de aprendizaje son:\n",
    "\n",
    "1. Aprendizaje activo, en la cual la información de entrenamiento es obtenida a partir de una serie de preguntas específicas. En esta variante, los problemas que se abren son aquellos asociados a realizar la mejor selección de preguntas, que hagan justicia a las variables \"clave\" del problema.\n",
    "\n",
    "2. Aprendizaje online, que trata del caso en que no se encuentre *todo* un dataset $D$ disponible, sino más bien existe un flujo de información constante del cual hay que ir aprendiendo.\n",
    "\n",
    "### ii. Aprendizaje reforzado\n",
    "\n",
    "Uno sale del marco del aprendizaje supervisado cuando no se posee información disponible de los valores de respuesta correctos para un set de datos. \n",
    "\n",
    "Existe una variante en la cual uno no posee información de la variable output correcto en un conjunto de datos; sin embargo posee un output (que no es necesariamente el correcto), y otra variable que nos ofrece una *medida o señal del grado en que es correcto dicho output*. \n",
    "\n",
    "En el marco del aprendizaje supervisado, se tienen las respuestas junto con el dataset de entrenamiento. Si no se tienen dichas respuestas, pero se posee algún tipo de *orientación general* que permita dar medidas de bondad a respuestas posibles, donde dichas medidas nos podrán acercar a lo buscado, nos encontramos en el marco del aprendizaje reforzado.\n",
    "\n",
    "### iii. Aprendizaje no supervisado\n",
    "\n",
    "En el caso en que no exista ningún tipo de información sobre el output buscado, nos encontramos en el marco del aprendizaje no supervisado.\n",
    "\n",
    "El aprendizaje no supervisado se puede interpretar como la tarea de *buscar patrones en los datos*.\n",
    "\n",
    "## E. Otras visiones del aprendizaje\n",
    "\n",
    "El aprendizaje a partir de datos es un nombre genérico de un campo de investigación, que involucra diferentes disciplinas y diferentes desarrollos teóricos, desarrollados en diferentes momentos en el tiempo.\n",
    "\n",
    "Se denomina **Machine Learning** al campo que investiga el aprendizaje a partir de datos *de las computadoras*. Su principal tarea es el **desarrollo de algoritmos de aprendizaje** que permitan implementar modelos de aprendizaje específicos.\n",
    "\n",
    "La **Estadística** también comparte la vocación de aprender de los datos. Esta disciplina se encuentra desarrollada al interior de la matemática, y por ello pone hincapié en el desarrollo de modelos teóricos que posibiliten su estudio riguroso en base a demostraciones matemáticas. Este enfoque genera modelos de aprendizaje específicos, muy bien estudiados, pero restrictivos y de aplicabilidad a contextos más acotados.\n",
    "\n",
    "Se denomina **Data Mining** al aprendizaje a partir de datos aplicado. Toma los desarrollos disponibles y les da un enfoque aplicado."
   ],
   "cell_type": "markdown",
   "metadata": {}
  }
 ]
}